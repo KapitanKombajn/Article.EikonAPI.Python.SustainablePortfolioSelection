{
 "cells": [
  {
   "cell_type": "markdown",
   "metadata": {},
   "source": [
    "# Sustainable Portfolio Selection -- Markowitz goes ESG\n",
    "Ecological, social and governance measures are gaining importance in the realm of financial services. On the one hand, investors' principles and their recognition of non-financial risks connected to exploitative business lead to a growing green capital market. On the other hand, allocating capital for ecological and social companies promotes sustainable development as it is aimed for e.g. in UN's 17 SDGs (sustainable development goals). As a reaction to climate change and human rights movements ESG measures will become legally relevant in the forseeable future. \n",
    "\n",
    "This article shows how ESG-Data can be used in portfolio decisions. \n",
    "The present text is standalone and targets readers who are interested, but not neccessarily familiar with portfolio optimization.\n",
    "\n",
    "\n",
    "### Overview\n",
    "\n",
    "We follow roughly the steps in [Jason Ramchandani's Portfolio Optimisation](https://developers.refinitiv.com/en/article-catalog/article/portfolio-optimization-modern-portfolio-theory) and build up an effective frontier from Markowitz' classical portfolio selection theory. But in difference to the classical risk-return-approach, we aim at a low risk combined with high ESG score. \n",
    "\n",
    "For details on ESG measures we refer to Gurpreet Bal's article [\"How to integrate ESG data into investment decisions\"](https://developers.refinitiv.com/en/article-catalog/article/how-integrate-esg-data-investment-decisions). We enhance his approach of selecting an ESG subset of a given index by requiring a lower bound on the TR ESG Score.    \n",
    "\n",
    "\n",
    "### Technical prerequisites\n",
    "\n",
    " * Refinitiv Eikon / Workspace with access to Eikon Data APIs (Free Trial Available)\n",
    " * Python 3.x\n",
    " * Required Python Packages: eikon, pandas 0.17.0 or higher, numpy, scipy, matplotlib\n",
    "\n",
    "### Portfolio selection at a glance\n",
    "In portfolio selection, a set of shares is given, e.g. an index, for example all shares listed in DAX. \n",
    "From this so-called **universe**, a combination of shares is selected into a portfolio. The selection follows some conditions and optimization goals. \n",
    "A classical **condition** on portfolios is an upper bound on the weight of a single share preventing high risks due to one very strong component. \n",
    "Classical **goals** are for instance a maximal expected return of the portfolio, a minimum mean variance, or low risk measures. \n",
    "In this tutorial, we will include a high ESG-Score into the optimization goal."
   ]
  },
  {
   "cell_type": "code",
   "execution_count": 1,
   "metadata": {
    "collapsed": true
   },
   "outputs": [],
   "source": [
    "import eikon as ek\n",
    "\n",
    "import pandas\n",
    "\n",
    "import numpy\n",
    "\n",
    "import matplotlib.pyplot as plt\n",
    "\n",
    "import scipy.optimize as sco \n",
    "\n",
    "import os\n",
    "\n",
    "ek.set_app_key('YOUR API KEY HERE')"
   ]
  },
  {
   "cell_type": "markdown",
   "metadata": {},
   "source": [
    "## Getting instruments and data\n",
    "Our portfolio will be built from a universe (or a pre-selection) of shares. We will work based on ETF iShares Core MSCI World UCITS ETF USD which is based on the MSCI World index."
   ]
  },
  {
   "cell_type": "markdown",
   "metadata": {},
   "source": [
    "### Reading a universe from Eikon\n",
    "We use Eikon to get the constituents of the index. For simplicity we will reduce the list of entries here to 100. "
   ]
  },
  {
   "cell_type": "code",
   "execution_count": 2,
   "metadata": {
    "scrolled": true
   },
   "outputs": [
    {
     "name": "stdout",
     "output_type": "stream",
     "text": [
      "        ric                                  name\n",
      "0   FITB.OQ               FIFTH THIRD BANCORP ORD\n",
      "1   HOLX.OQ                           HOLOGIC ORD\n",
      "2    8630.T                   SOMPO HLDGS INC ORD\n",
      "3   CTSH.OQ  COGNIZANT TECHNOLOGY SOLUTN CL A ORD\n",
      "4    6965.T               HAMAMATSU PHOTONICS ORD\n",
      "..      ...                                   ...\n",
      "95   CBOE.Z           CBOE GLOBAL MARKETS INC ORD\n",
      "96   8031.T                            MITSUI ORD\n",
      "97  OREP.PA                          L OREAL S.A.\n",
      "98   BDEV.L                      BARRATT DEVLPMNT\n",
      "99  DAST.PA                 DASSAULT SYSTEMES ORD\n",
      "\n",
      "[100 rows x 2 columns]\n"
     ]
    }
   ],
   "source": [
    "N=100\n",
    "constituents, err = ek.get_data(['IWDA.L'], ['TR.ETPConstituentRIC', 'TR.ETPConstituentName'])\n",
    "constituents.rename(columns={'Constituent RIC': 'ric', 'Constituent Name': 'name'}, inplace=True)\n",
    "constituents = constituents[['ric','name']][0:N]\n",
    "print(constituents)"
   ]
  },
  {
   "cell_type": "markdown",
   "metadata": {},
   "source": [
    "### Reading instruments time series price data\n",
    "We get the time series of our chosen instruments for one year. We need to remove the NA data in order to prevent problems with calculating the covariance matrix."
   ]
  },
  {
   "cell_type": "code",
   "execution_count": 3,
   "metadata": {
    "collapsed": true
   },
   "outputs": [],
   "source": [
    "start='2020-01-01'\n",
    "end='2020-12-31'\n",
    "instruments = constituents['ric'].astype(str).values.tolist()\n",
    "ts =pandas.DataFrame()\n",
    "for r in instruments:\n",
    "    try:\n",
    "        ts1 = ek.get_timeseries(r,'CLOSE',start_date=start,end_date=end,interval='daily')\n",
    "        ts1.rename(columns = {'CLOSE' : r}, inplace=True)\n",
    "        ts =pandas.concat([ts, ts1], axis=1)\n",
    "    except:\n",
    "        continue\n",
    "ts = ts.dropna()"
   ]
  },
  {
   "cell_type": "code",
   "execution_count": 4,
   "metadata": {},
   "outputs": [
    {
     "name": "stdout",
     "output_type": "stream",
     "text": [
      "            FITB.OQ  HOLX.OQ  8630.T  CTSH.OQ  6965.T       AVV.L   WCN.N  \\\n",
      "Date                                                                        \n",
      "2020-01-07   29.850   52.490  4280.0    60.32    4555  3789.54556   92.58   \n",
      "2020-01-08   29.920   52.290  4188.0    60.73    4490  3815.21564   93.27   \n",
      "2020-01-09   30.250   53.275  4228.0    61.11    4545  3828.05068   93.75   \n",
      "2020-01-10   29.760   53.170  4239.0    60.64    4530  3805.58936   93.82   \n",
      "2020-01-14   29.740   53.530  4213.0    61.37    4575  3905.06092   95.13   \n",
      "...             ...      ...     ...      ...     ...         ...     ...   \n",
      "2020-12-21   27.165   75.230  4038.0    80.47    6030  3199.00000  101.64   \n",
      "2020-12-22   26.930   74.670  4034.0    81.02    5880  3213.00000  102.72   \n",
      "2020-12-23   27.730   75.060  4068.0    80.99    5920  3209.00000  101.23   \n",
      "2020-12-29   27.280   71.740  4186.0    80.50    6060  3281.00000  101.48   \n",
      "2020-12-30   27.280   71.750  4173.0    81.07    5900  3225.00000  101.84   \n",
      "\n",
      "              BAMa.TO  FERG.L  BCE.TO  ...  5101.T  7259.T  G24n.DE  TRYG.CO  \\\n",
      "Date                                   ...                                     \n",
      "2020-01-07  50.093358    6948   60.48  ...    2112    4045    59.45    200.0   \n",
      "2020-01-08  50.300025    6980   60.64  ...    2054    3985    59.35    197.5   \n",
      "2020-01-09  50.746692    7146   60.29  ...    2088    3945    60.40    197.5   \n",
      "2020-01-10  50.846692    7078   60.52  ...    2066    3900    60.25    199.1   \n",
      "2020-01-14  52.353360    7216   60.89  ...    2049    3905    60.45    204.4   \n",
      "...               ...     ...     ...  ...     ...     ...      ...      ...   \n",
      "2020-12-21  50.980000    8818   54.75  ...    1565    3125    67.05    188.1   \n",
      "2020-12-22  51.110000    8890   54.60  ...    1560    3140    67.40    187.3   \n",
      "2020-12-23  51.810000    8858   54.66  ...    1530    3110    67.35    187.8   \n",
      "2020-12-29  52.880000    9004   54.69  ...    1558    3120    66.80    192.0   \n",
      "2020-12-30  52.720000    8890   54.60  ...    1534    3095    67.05    192.1   \n",
      "\n",
      "            8411.T  CBOE.Z  8031.T  OREP.PA  BDEV.L  DAST.PA  \n",
      "Date                                                          \n",
      "2020-01-07  1682.0  118.22  1971.0    259.6   762.2   148.70  \n",
      "2020-01-08  1668.0  117.01  1949.0    261.2   761.2   150.50  \n",
      "2020-01-09  1677.0  116.01  1981.5    262.8   758.0   152.45  \n",
      "2020-01-10  1672.0  115.85  1971.5    263.9   756.2   154.00  \n",
      "2020-01-14  1666.0  115.49  1972.5    263.8   781.0   154.00  \n",
      "...            ...     ...     ...      ...     ...      ...  \n",
      "2020-12-21  1315.5   90.26  1904.5    295.6   636.4   159.85  \n",
      "2020-12-22  1312.0   90.71  1876.0    301.8   649.0   163.25  \n",
      "2020-12-23  1293.0   91.10  1864.5    303.7   676.0   165.00  \n",
      "2020-12-29  1315.0   91.66  1911.0    312.2   681.6   166.85  \n",
      "2020-12-30  1307.5   92.62  1889.5    313.2   680.2   167.55  \n",
      "\n",
      "[208 rows x 100 columns]\n"
     ]
    }
   ],
   "source": [
    "print(ts)"
   ]
  },
  {
   "cell_type": "markdown",
   "metadata": {},
   "source": [
    "### Reading ESG-data from Eikon\n",
    "Refinitiv provides a large bunch of data connected to ESG-evaluation of companies. In this exemplary portfolio selection, we use the TR.TRESGScore which ranges from 0 to 100."
   ]
  },
  {
   "cell_type": "code",
   "execution_count": 5,
   "metadata": {
    "collapsed": true,
    "scrolled": true
   },
   "outputs": [],
   "source": [
    "df_esg, err = ek.get_data(instruments, ['TR.TRESGScore','TR.BusinessSummary'])\n",
    "df_esg = df_esg.rename(columns={'Instrument':'ric', 'ESG Score':'esg'}).set_index('ric')\n",
    "df_esg = pandas.concat([constituents.set_index('ric'), df_esg], join='inner', axis=1)"
   ]
  },
  {
   "cell_type": "code",
   "execution_count": 6,
   "metadata": {},
   "outputs": [
    {
     "data": {
      "text/html": [
       "<div>\n",
       "<style scoped>\n",
       "    .dataframe tbody tr th:only-of-type {\n",
       "        vertical-align: middle;\n",
       "    }\n",
       "\n",
       "    .dataframe tbody tr th {\n",
       "        vertical-align: top;\n",
       "    }\n",
       "\n",
       "    .dataframe thead th {\n",
       "        text-align: right;\n",
       "    }\n",
       "</style>\n",
       "<table border=\"1\" class=\"dataframe\">\n",
       "  <thead>\n",
       "    <tr style=\"text-align: right;\">\n",
       "      <th></th>\n",
       "      <th>name</th>\n",
       "      <th>esg</th>\n",
       "      <th>Business Description</th>\n",
       "    </tr>\n",
       "    <tr>\n",
       "      <th>ric</th>\n",
       "      <th></th>\n",
       "      <th></th>\n",
       "      <th></th>\n",
       "    </tr>\n",
       "  </thead>\n",
       "  <tbody>\n",
       "    <tr>\n",
       "      <th>FITB.OQ</th>\n",
       "      <td>FIFTH THIRD BANCORP ORD</td>\n",
       "      <td>69.891816</td>\n",
       "      <td>Fifth Third Bancorp is a bank holding company ...</td>\n",
       "    </tr>\n",
       "    <tr>\n",
       "      <th>HOLX.OQ</th>\n",
       "      <td>HOLOGIC ORD</td>\n",
       "      <td>73.698711</td>\n",
       "      <td>Hologic, Inc. is a developer, manufacturer and...</td>\n",
       "    </tr>\n",
       "    <tr>\n",
       "      <th>8630.T</th>\n",
       "      <td>SOMPO HLDGS INC ORD</td>\n",
       "      <td>71.080134</td>\n",
       "      <td>Sompo Holdings, Inc. is a Japan-based company ...</td>\n",
       "    </tr>\n",
       "    <tr>\n",
       "      <th>CTSH.OQ</th>\n",
       "      <td>COGNIZANT TECHNOLOGY SOLUTN CL A ORD</td>\n",
       "      <td>58.391002</td>\n",
       "      <td>Cognizant Technology Solutions Corporation is ...</td>\n",
       "    </tr>\n",
       "    <tr>\n",
       "      <th>6965.T</th>\n",
       "      <td>HAMAMATSU PHOTONICS ORD</td>\n",
       "      <td>60.111937</td>\n",
       "      <td>HAMAMATSU PHOTONICS K.K. is a Japan-based comp...</td>\n",
       "    </tr>\n",
       "    <tr>\n",
       "      <th>...</th>\n",
       "      <td>...</td>\n",
       "      <td>...</td>\n",
       "      <td>...</td>\n",
       "    </tr>\n",
       "    <tr>\n",
       "      <th>CBOE.Z</th>\n",
       "      <td>CBOE GLOBAL MARKETS INC ORD</td>\n",
       "      <td>46.769310</td>\n",
       "      <td>Cboe Global Markets, Inc. is a holding company...</td>\n",
       "    </tr>\n",
       "    <tr>\n",
       "      <th>8031.T</th>\n",
       "      <td>MITSUI ORD</td>\n",
       "      <td>71.280614</td>\n",
       "      <td>Mitsui &amp; Co., Ltd. is a general trading compan...</td>\n",
       "    </tr>\n",
       "    <tr>\n",
       "      <th>OREP.PA</th>\n",
       "      <td>L OREAL S.A.</td>\n",
       "      <td>79.008395</td>\n",
       "      <td>L'Oreal SA is a France-based cosmetics company...</td>\n",
       "    </tr>\n",
       "    <tr>\n",
       "      <th>BDEV.L</th>\n",
       "      <td>BARRATT DEVLPMNT</td>\n",
       "      <td>69.361833</td>\n",
       "      <td>Barratt Developments PLC is a holding company....</td>\n",
       "    </tr>\n",
       "    <tr>\n",
       "      <th>DAST.PA</th>\n",
       "      <td>DASSAULT SYSTEMES ORD</td>\n",
       "      <td>57.005719</td>\n",
       "      <td>Dassault Systemes SE is a France-based softwar...</td>\n",
       "    </tr>\n",
       "  </tbody>\n",
       "</table>\n",
       "<p>100 rows × 3 columns</p>\n",
       "</div>"
      ],
      "text/plain": [
       "                                         name        esg  \\\n",
       "ric                                                        \n",
       "FITB.OQ               FIFTH THIRD BANCORP ORD  69.891816   \n",
       "HOLX.OQ                           HOLOGIC ORD  73.698711   \n",
       "8630.T                    SOMPO HLDGS INC ORD  71.080134   \n",
       "CTSH.OQ  COGNIZANT TECHNOLOGY SOLUTN CL A ORD  58.391002   \n",
       "6965.T                HAMAMATSU PHOTONICS ORD  60.111937   \n",
       "...                                       ...        ...   \n",
       "CBOE.Z            CBOE GLOBAL MARKETS INC ORD  46.769310   \n",
       "8031.T                             MITSUI ORD  71.280614   \n",
       "OREP.PA                          L OREAL S.A.  79.008395   \n",
       "BDEV.L                       BARRATT DEVLPMNT  69.361833   \n",
       "DAST.PA                 DASSAULT SYSTEMES ORD  57.005719   \n",
       "\n",
       "                                      Business Description  \n",
       "ric                                                         \n",
       "FITB.OQ  Fifth Third Bancorp is a bank holding company ...  \n",
       "HOLX.OQ  Hologic, Inc. is a developer, manufacturer and...  \n",
       "8630.T   Sompo Holdings, Inc. is a Japan-based company ...  \n",
       "CTSH.OQ  Cognizant Technology Solutions Corporation is ...  \n",
       "6965.T   HAMAMATSU PHOTONICS K.K. is a Japan-based comp...  \n",
       "...                                                    ...  \n",
       "CBOE.Z   Cboe Global Markets, Inc. is a holding company...  \n",
       "8031.T   Mitsui & Co., Ltd. is a general trading compan...  \n",
       "OREP.PA  L'Oreal SA is a France-based cosmetics company...  \n",
       "BDEV.L   Barratt Developments PLC is a holding company....  \n",
       "DAST.PA  Dassault Systemes SE is a France-based softwar...  \n",
       "\n",
       "[100 rows x 3 columns]"
      ]
     },
     "execution_count": 6,
     "metadata": {},
     "output_type": "execute_result"
    }
   ],
   "source": [
    "df_esg"
   ]
  },
  {
   "cell_type": "markdown",
   "metadata": {},
   "source": [
    "## Unconstrained minimum volatility portfolio (MVP)\n",
    "As a first step, we calculate the classic minimum volatility portfolio."
   ]
  },
  {
   "cell_type": "markdown",
   "metadata": {},
   "source": [
    "### Calculate past returns and covariance matrix\n",
    "We calculate the past returns using pandas. We need to remove the NA numbers, that will be occuring in the first row -and possibly elsewhere."
   ]
  },
  {
   "cell_type": "code",
   "execution_count": 7,
   "metadata": {
    "collapsed": true
   },
   "outputs": [],
   "source": [
    "returns = ts.pct_change().replace(numpy.inf, numpy.nan).dropna()\n",
    "covMatrix = returns.cov()"
   ]
  },
  {
   "cell_type": "markdown",
   "metadata": {},
   "source": [
    "### Define risk measure\n",
    "Using the covariance matrix, we define a risk measure based on volatility:"
   ]
  },
  {
   "cell_type": "code",
   "execution_count": 8,
   "metadata": {
    "collapsed": true
   },
   "outputs": [],
   "source": [
    "def risk_measure(covMatrix, weights):\n",
    "    return numpy.dot(weights, numpy.dot(covMatrix, weights))"
   ]
  },
  {
   "cell_type": "markdown",
   "metadata": {},
   "source": [
    "First, we set the boundary conditions for the single weights that should range between 0 and 1."
   ]
  },
  {
   "cell_type": "code",
   "execution_count": 9,
   "metadata": {
    "collapsed": true
   },
   "outputs": [],
   "source": [
    "bounds = len(instruments) * [(0, 1)]"
   ]
  },
  {
   "cell_type": "markdown",
   "metadata": {},
   "source": [
    "Second, we set the condition that the weights should add up to 1."
   ]
  },
  {
   "cell_type": "code",
   "execution_count": 10,
   "metadata": {
    "collapsed": true
   },
   "outputs": [],
   "source": [
    "constraints = {'type': 'eq', 'fun': lambda weights: weights.sum() - 1}"
   ]
  },
  {
   "cell_type": "markdown",
   "metadata": {},
   "source": [
    "The minimum volatility portfolio (MVP) portfolio is computed by scipy's optimize function, which returns a result 'res' that includes the portfolio weights 'res['x']' and the minimized risk measure 'res['fun']'. \n",
    "We evaluate the number of instruments in the portfolio, the minimum and maximum weights, the MVP's (historical) annual return, it's volatility, and also the ESG score."
   ]
  },
  {
   "cell_type": "code",
   "execution_count": 11,
   "metadata": {},
   "outputs": [
    {
     "name": "stdout",
     "output_type": "stream",
     "text": [
      "\n",
      "MVP in a universe with 100 instruments\n",
      "Number of selected instruments: 65\n",
      "Minimum weight: 2.44826270139076e-20\n",
      "Maximum weight: 0.06396593250127255\n",
      "Historical risk measure: 0.0001294899285868813\n",
      "Historical return p.a.: 0.07872510570868128\n",
      "ESG score: 55.31860881168306\n"
     ]
    }
   ],
   "source": [
    "mvp = sco.minimize(lambda x: risk_measure(covMatrix, x),  # function to be minized\n",
    "                   len(instruments) * [1 / len(instruments)],  # initial guess\n",
    "                   bounds=bounds,  # boundary conditions\n",
    "                   constraints =constraints,  # equality constraints\n",
    "                   )\n",
    "mvp_weights = list(mvp['x'])\n",
    "mvp_esg = numpy.dot(mvp_weights, df_esg['esg'])\n",
    "mvp_risk = mvp['fun']\n",
    "print('\\nMVP in a universe with {N} instruments\\nNumber of selected instruments: {n}\\nMinimum weight: {minw}\\nMaximum weight: {maxw}\\nHistorical risk measure: {risk}\\nHistorical return p.a.: {r}\\nESG score: {esg}'.format(N=N,n=numpy.sum(mvp['x']>0),minw=numpy.min(mvp['x'][numpy.nonzero(mvp['x'])]),maxw=numpy.max(mvp['x']),risk=mvp_risk,r=numpy.dot(mvp_weights,returns.sum()),esg=mvp_esg))"
   ]
  },
  {
   "cell_type": "markdown",
   "metadata": {},
   "source": [
    "### Results\n",
    "We use a pandas DataFrame to assign the weights to the instruments, sort them by size and remove the very small ones for the plot (note that in order to use the sort_values function your pandas version needs to be higher than 0.17.0)."
   ]
  },
  {
   "cell_type": "code",
   "execution_count": 12,
   "metadata": {
    "collapsed": true
   },
   "outputs": [],
   "source": [
    "df_weights =pandas.DataFrame(data=mvp_weights, index=instruments)\n",
    "df_weights =df_weights.sort_values(by=[0], ascending=False)\n",
    "df_weights =df_weights[df_weights > 1e-4].dropna()\n",
    "df_weights =df_weights.T"
   ]
  },
  {
   "cell_type": "code",
   "execution_count": 13,
   "metadata": {
    "scrolled": true
   },
   "outputs": [
    {
     "data": {
      "image/png": "[encoded data removed]",
      "text/plain": [
       "<Figure size 1080x360 with 1 Axes>"
      ]
     },
     "metadata": {
      "needs_background": "light"
     },
     "output_type": "display_data"
    }
   ],
   "source": [
    "#plotting the weights \n",
    "plt.figure(figsize=(15, 5))\n",
    "ypos = numpy.linspace(0, 100, num=len(df_weights.iloc[0,:]))\n",
    "plt.bar(ypos, df_weights.values[0], width =1)\n",
    "plt.xticks(ypos, df_weights.columns, rotation =30, ha ='right')\n",
    "plt.xlabel('RICs', fontsize=12)\n",
    "plt.ylabel('Weights', fontsize=12)\n",
    "plt.title('Portfolio Weights (Minimum Volatility Portfolio)', fontsize=12)\n",
    "plt.show()"
   ]
  },
  {
   "cell_type": "markdown",
   "metadata": {},
   "source": [
    "## MVP for prescribed ESG score\n",
    "We are now interested in selecting a portfolio with a higher ESG score than the MVP. This additional restriction is implemented via a second constraint in scipy's optimize. Note that the prescribed ESG score should be higher than the MVP's ESG -- we are the good guys, and want more ecological, social and governance value! On the other hand, the maximum ESG can be achieved by simply investing all the money into the highest rated instrument -but that would be too much of a risk, we want more diversity. This yields an upper bound on a meaningful setting for the prescribed ESG. "
   ]
  },
  {
   "cell_type": "code",
   "execution_count": 14,
   "metadata": {},
   "outputs": [
    {
     "name": "stdout",
     "output_type": "stream",
     "text": [
      "\n",
      "MVP with prescribes ESG = 80 in a universe with 100 instruments\n",
      "Number of selected instruments: 66\n",
      "Minimum weight: 2.0241858872983442e-20\n",
      "Maximum weight: 0.09328007383074229\n",
      "Historical risk measure: 0.00024141858003072668\n",
      "Historical return p.a.: 0.15745991254900046\n",
      "ESG score: 80.00000000021717\n"
     ]
    }
   ],
   "source": [
    "prescribed_esg = 80\n",
    "\n",
    "esg_constraint = {'type': 'eq', 'fun': lambda weights: numpy.dot(weights, df_esg['esg']) - prescribed_esg}\n",
    "esgmvp = sco.minimize(lambda x: risk_measure(covMatrix, x),  # function to be minized\n",
    "                   len(instruments) * [1 / len(instruments)],  # initial guess\n",
    "                   bounds=bounds,  # boundary conditions\n",
    "                   constraints =[constraints, esg_constraint],  # equality constraints\n",
    "                   )\n",
    "esgmvp_weights = list(esgmvp['x'])\n",
    "esgmvp_esg = numpy.dot(esgmvp_weights, df_esg['esg'])\n",
    "esgmvp_risk = esgmvp['fun']\n",
    "\n",
    "print('\\nMVP with prescribes ESG = {pe} in a universe with {N} instruments\\nNumber of selected instruments: {n}\\nMinimum weight: {minw}\\nMaximum weight: {maxw}\\nHistorical risk measure: {risk}\\nHistorical return p.a.: {r}\\nESG score: {esg}'.format(N=N,n=numpy.sum(esgmvp['x']>0),minw=numpy.min(esgmvp['x'][numpy.nonzero(esgmvp['x'])]),maxw=numpy.max(esgmvp['x']),risk=esgmvp_risk,r=numpy.dot(esgmvp_weights,returns.sum()),esg=esgmvp_esg,pe=prescribed_esg))"
   ]
  },
  {
   "cell_type": "markdown",
   "metadata": {},
   "source": [
    "### Results\n",
    "We use a pandas DataFrame to assign the weights to the instruments, sort them by size and delete the very small ones:"
   ]
  },
  {
   "cell_type": "code",
   "execution_count": 15,
   "metadata": {
    "collapsed": true
   },
   "outputs": [],
   "source": [
    "df_weights =pandas.DataFrame(data=esgmvp_weights, index=instruments)\n",
    "df_weights =df_weights.sort_values(by=[0], ascending=False)\n",
    "df_weights =df_weights[df_weights > 1e-4].dropna()\n",
    "df_weights =df_weights.T"
   ]
  },
  {
   "cell_type": "code",
   "execution_count": 16,
   "metadata": {},
   "outputs": [
    {
     "data": {
      "image/png": "[encoded data removed]",
      "text/plain": [
       "<Figure size 1080x360 with 1 Axes>"
      ]
     },
     "metadata": {
      "needs_background": "light"
     },
     "output_type": "display_data"
    }
   ],
   "source": [
    "#plotting the weights\n",
    "plt.figure(figsize=(15, 5))\n",
    "ypos = numpy.linspace(0, 100, num=len(df_weights.iloc[0,:]))\n",
    "plt.bar(ypos, df_weights.values[0], width =1)\n",
    "plt.xticks(ypos, df_weights.columns, rotation =30, ha ='right')\n",
    "plt.xlabel('RICs', fontsize=12)\n",
    "plt.ylabel('Weights', fontsize=12)\n",
    "plt.title('Portfolio Weights (Minimal Risk with ESG Score 80)', fontsize=12)\n",
    "plt.show()"
   ]
  },
  {
   "cell_type": "markdown",
   "metadata": {},
   "source": [
    "The risk measure of the resulting portfolio is increased compared to the MVP, because we optimize over a more restricted set -- namely, only those portfolios providing the prescribed ESG score instead of all possible portfolios. But nothing is said about the historical return: In this example, it is increased by a factor of about 2 compared to the MVP. Demanding more value for the climate, the environment and for humans can thus lead to higher return. \n",
    "\n",
    "## ESG-efficient frontier\n",
    "Portfolios can be evaluated with respect to return and volatility, and plotted as dots into a respective coordinate system. In the classical context of H. Markowitz, the **efficient frontier** is a line that consists of all those portfolio-dots, which are efficient in the following sense: There is no other portfolio which has the same return at a lower risk. \n",
    "\n",
    "We adjust this idea to the ESG context by replacing Markowitz's return with the ESG score. From a mathematical viewpoint, both measures are very similar: The return/ESG of a portfolio is computed as a scalar product of a vector with return/ESG scores of the instruments with the weights vector. \n",
    "\n",
    "To build up the **ESG-efficient frontier**, we calculate several optimal portfolios with different prescribed ESG values. The prescribed ESG values will be in the range between the MVP's ESG, and the maximum ESG of all instruments in the underlying universe. We save the resulting portfolio weights, their ESG value and their risk measure in our results dictionary. "
   ]
  },
  {
   "cell_type": "code",
   "execution_count": 17,
   "metadata": {
    "collapsed": true
   },
   "outputs": [],
   "source": [
    "max_esg=numpy.floor(max(df_esg['esg'].values.tolist())) #max esg value to be achieved dependent on the universe\n",
    "min_esg=mvp_esg #min esg value which is interesting for portfolio selection\n",
    "\n",
    "results = {'esg_val':[],'weights':[],'risk':[],'return':[]}\n",
    "for rho in numpy.linspace(min_esg,max_esg,num=25):\n",
    "    constraints2 = {'type': 'eq', 'fun': lambda weights: numpy.dot(weights, df_esg['esg']) - rho}\n",
    "    res = sco.minimize(lambda x: risk_measure(covMatrix, x),  # function to be minized\n",
    "                   len(instruments) * [1 / len(instruments)],  # initial guess\n",
    "                   bounds=bounds,  # boundary conditions\n",
    "                   constraints =[constraints, constraints2],  # equality constraints\n",
    "                       )\n",
    "    weights = list(res['x'])\n",
    "    esg_val= numpy.dot(weights, df_esg['esg'])\n",
    "    results['esg_val'].append(esg_val)\n",
    "    results['weights'].append(weights)\n",
    "    results['risk'].append(res['fun'])\n",
    "    results['return'].append(numpy.dot(weights,returns.sum()))\n"
   ]
  },
  {
   "cell_type": "markdown",
   "metadata": {},
   "source": [
    "### Results\n",
    "Plotting our result:"
   ]
  },
  {
   "cell_type": "code",
   "execution_count": 18,
   "metadata": {},
   "outputs": [
    {
     "data": {
      "image/png": "[encoded data removed]",
      "text/plain": [
       "<Figure size 432x288 with 1 Axes>"
      ]
     },
     "metadata": {
      "needs_background": "light"
     },
     "output_type": "display_data"
    }
   ],
   "source": [
    "plt.plot(results['risk'],results['esg_val'], 'o')\n",
    "plt.xlabel('risk')\n",
    "plt.ylabel('esg_val')\n",
    "plt.show()"
   ]
  },
  {
   "cell_type": "markdown",
   "metadata": {},
   "source": [
    "### Remark on the trade-off between risk and ESG rating in this model\n",
    "The fact that a higher ESG score comes with higher risks is intrinsic to this model, but it does not fully recover reality (that's always the problem with mathematical models . . . ). One just minimizes over a subset, and the minimum will thus increase.\n",
    "As a remedy, one can enlarge or change the universe. In this way, almost any combination of ESG score, risk measure and (expected) return can be achieved.\n",
    "\n",
    "A happier fact (also kind of model-intrinsic) is that higher ESG scores come with higher returns within the ESG-efficient portfolios:"
   ]
  },
  {
   "cell_type": "code",
   "execution_count": 19,
   "metadata": {},
   "outputs": [
    {
     "data": {
      "image/png": "[encoded data removed]",
      "text/plain": [
       "<Figure size 432x288 with 1 Axes>"
      ]
     },
     "metadata": {
      "needs_background": "light"
     },
     "output_type": "display_data"
    }
   ],
   "source": [
    "plt.plot(results['esg_val'],results['return'],'o')\n",
    "plt.xlabel('esg_val')\n",
    "plt.ylabel('return')\n",
    "plt.show()"
   ]
  },
  {
   "cell_type": "markdown",
   "metadata": {},
   "source": [
    "## Outlook\n",
    "This tutorial focuses on employing ESG-data in portfolio selection. \n",
    "For this purpose, we chose simple models for returns and risks. One can enhance both measures, e.g. by forecasting methods, weighted or non-smooth risk measures, and more. \n",
    "Furthermore, we did not consider the expected return in our optimization and utilized only one out of a bunch of ESG data that is available via Eikon. One can include more constraints or add terms to the objective functional of the optimization problem.  \n",
    "\n",
    "For more details on portfolio optimization see [Portfolio Selection by Dr. Yves J. Hilpisch](https://github.com/yhilpisch/eikondataapi/blob/master/notebooks/06_tpq_eikon_portfolio_selection.ipynb) and [Jason Ramchandani's Portfolio Optimisation Part II](https://developers.refinitiv.com/en/article-catalog/article/portfolio-optimisation-ii).\n",
    "\n",
    "For more information about the authors, check out [https://goldmarie-finanzen.de](https://goldmarie-finanzen.de)!"
   ]
  }
 ],
 "metadata": {
  "kernelspec": {
   "display_name": "Python 3",
   "language": "python",
   "name": "python3"
  },
  "language_info": {
   "codemirror_mode": {
    "name": "ipython",
    "version": 3
   },
   "file_extension": ".py",
   "mimetype": "text/x-python",
   "name": "python",
   "nbconvert_exporter": "python",
   "pygments_lexer": "ipython3",
   "version": "3.7.1"
  }
 },
 "nbformat": 4,
 "nbformat_minor": 2
}
